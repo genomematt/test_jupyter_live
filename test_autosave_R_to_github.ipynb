{
 "cells": [
  {
   "cell_type": "markdown",
   "metadata": {},
   "source": [
    "# Test of automatic push to Github for R Kernal notebooks\n",
    "*Matthew Wakefield 18th Nov 2015*"
   ]
  },
  {
   "cell_type": "markdown",
   "metadata": {},
   "source": [
    "Setup prior to this notebook was to create a new repository on Github\n",
    "\n",
    "    git clone <your_github_repo>\n",
    "    cd <your_github_repo>\n",
    "    jupyter notebook --generate-config\n",
    "    "
   ]
  },
  {
   "cell_type": "markdown",
   "metadata": {},
   "source": [
    "The config file is in your home directory so this will apply to all your Jupyter notebooks"
   ]
  },
  {
   "cell_type": "markdown",
   "metadata": {},
   "source": [
    "\n",
    "    import os\n",
    "    from subprocess import check_call\n",
    "    from shlex import split\n",
    "\n",
    "    def post_save(model, os_path, contents_manager):\n",
    "        \"\"\"post-save hook for doing a git commit / push\"\"\"\n",
    "        if model['type'] != 'notebook':\n",
    "            return # only do this for notebooks\n",
    "        workdir, filename = os.path.split(os_path)\n",
    "        if filename.startswith('Scratch') or filename.startswith('Untitled'):\n",
    "            return # skip scratch and untitled notebooks\n",
    "        # now do git add / git commit / git push\n",
    "        check_call(split('git add {}'.format(filename)), cwd=workdir)\n",
    "        check_call(split('git commit -m \"notebook save\" {}'.format(filename)), cwd=workdir)\n",
    "        check_call(split('git push'), cwd=workdir)\n",
    "\n",
    "    c.FileContentsManager.post_save_hook = post_save"
   ]
  }
 ],
 "metadata": {
  "kernelspec": {
   "display_name": "R",
   "language": "R",
   "name": "ir"
  },
  "language_info": {
   "codemirror_mode": "r",
   "file_extension": ".r",
   "mimetype": "text/x-r-source",
   "name": "R",
   "pygments_lexer": "r",
   "version": "3.1.0"
  }
 },
 "nbformat": 4,
 "nbformat_minor": 0
}
